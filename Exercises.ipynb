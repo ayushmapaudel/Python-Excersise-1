{
 "cells": [
  {
   "cell_type": "markdown",
   "id": "b8fc0565-f14a-4ed5-ae72-f8a2ba723349",
   "metadata": {},
   "source": [
    "Airthmetic Operators"
   ]
  },
  {
   "cell_type": "code",
   "execution_count": null,
   "id": "452913f9-d239-4fe8-973b-ac372a6765c5",
   "metadata": {},
   "outputs": [],
   "source": [
    "#combine 14 and 23"
   ]
  },
  {
   "cell_type": "code",
   "execution_count": 1,
   "id": "1f9964c2-8993-4211-afab-587f47b927d5",
   "metadata": {},
   "outputs": [
    {
     "name": "stdout",
     "output_type": "stream",
     "text": [
      "37\n"
     ]
    }
   ],
   "source": [
    "sum = 14 + 23\n",
    "print (sum)"
   ]
  },
  {
   "cell_type": "code",
   "execution_count": 2,
   "id": "9243cc25-9a39-4800-8a7f-3f1d2196152e",
   "metadata": {},
   "outputs": [
    {
     "data": {
      "text/plain": [
       "-24"
      ]
     },
     "execution_count": 2,
     "metadata": {},
     "output_type": "execute_result"
    }
   ],
   "source": [
    "sub = 26 - 50\n",
    "sub"
   ]
  },
  {
   "cell_type": "code",
   "execution_count": 5,
   "id": "fdec2a48-1aab-4e44-a6b7-23bf8beede50",
   "metadata": {},
   "outputs": [
    {
     "data": {
      "text/plain": [
       "5.5"
      ]
     },
     "execution_count": 5,
     "metadata": {},
     "output_type": "execute_result"
    }
   ],
   "source": [
    "div = 22 / 4\n",
    "div"
   ]
  },
  {
   "cell_type": "code",
   "execution_count": 4,
   "id": "5bf563a4-4c4b-419d-8d12-a4c0181550fc",
   "metadata": {},
   "outputs": [
    {
     "data": {
      "text/plain": [
       "2"
      ]
     },
     "execution_count": 4,
     "metadata": {},
     "output_type": "execute_result"
    }
   ],
   "source": [
    "rem = 22 % 4\n",
    "rem"
   ]
  },
  {
   "cell_type": "code",
   "execution_count": 9,
   "id": "0cb56616-c7ef-447d-ac9d-be9c96912f10",
   "metadata": {},
   "outputs": [
    {
     "name": "stdout",
     "output_type": "stream",
     "text": [
      "5.5\n"
     ]
    }
   ],
   "source": [
    "divide = float (22)/ 4\n",
    "print(divide)"
   ]
  },
  {
   "cell_type": "markdown",
   "id": "17162d59-e117-4fcb-940b-7ac8644870cd",
   "metadata": {},
   "source": [
    "Numbers and Boolean value"
   ]
  },
  {
   "cell_type": "code",
   "execution_count": 10,
   "id": "59493f7b-1a7e-4f00-b726-f49ade37a750",
   "metadata": {},
   "outputs": [],
   "source": [
    "var = True"
   ]
  },
  {
   "cell_type": "code",
   "execution_count": 11,
   "id": "6a1dbf88-6382-4902-af5a-5282c280d537",
   "metadata": {},
   "outputs": [
    {
     "name": "stdout",
     "output_type": "stream",
     "text": [
      "<class 'bool'>\n"
     ]
    }
   ],
   "source": [
    "print (type(var))"
   ]
  },
  {
   "cell_type": "code",
   "execution_count": 12,
   "id": "a7f22027-e8c4-4727-9468-a3f8b044293f",
   "metadata": {},
   "outputs": [
    {
     "data": {
      "text/plain": [
       "99"
      ]
     },
     "execution_count": 12,
     "metadata": {},
     "output_type": "execute_result"
    }
   ],
   "source": [
    "variable = 99\n",
    "variable"
   ]
  },
  {
   "cell_type": "code",
   "execution_count": 13,
   "id": "5842c558-6d37-4b79-baa5-71245036511d",
   "metadata": {},
   "outputs": [
    {
     "name": "stdout",
     "output_type": "stream",
     "text": [
      "<class 'int'>\n"
     ]
    }
   ],
   "source": [
    "print (type(variable))"
   ]
  },
  {
   "cell_type": "code",
   "execution_count": 14,
   "id": "8c5373dc-016a-4d27-98f7-b828eef31594",
   "metadata": {},
   "outputs": [
    {
     "name": "stdout",
     "output_type": "stream",
     "text": [
      "<class 'float'>\n"
     ]
    }
   ],
   "source": [
    "value = 0.99\n",
    "print(type(value))"
   ]
  },
  {
   "cell_type": "code",
   "execution_count": 15,
   "id": "6b58502b-1e13-471a-a50d-c6fda2d311c5",
   "metadata": {},
   "outputs": [
    {
     "name": "stdout",
     "output_type": "stream",
     "text": [
      "99.0\n"
     ]
    }
   ],
   "source": [
    "v = float(99)\n",
    "print(v)"
   ]
  },
  {
   "cell_type": "code",
   "execution_count": 16,
   "id": "3dd003b7-e9cf-4097-a83f-160b190ced2b",
   "metadata": {},
   "outputs": [
    {
     "name": "stdout",
     "output_type": "stream",
     "text": [
      "99\n"
     ]
    }
   ],
   "source": [
    "v = int(v)\n",
    "print(v)"
   ]
  },
  {
   "cell_type": "markdown",
   "id": "2e54178a-c87f-4993-b917-91ab5b3865e8",
   "metadata": {},
   "source": [
    "The double-equality sign"
   ]
  },
  {
   "cell_type": "code",
   "execution_count": 17,
   "id": "1f92ed9d-1e8a-470d-8380-a12f84c61354",
   "metadata": {},
   "outputs": [
    {
     "name": "stdout",
     "output_type": "stream",
     "text": [
      "False\n"
     ]
    }
   ],
   "source": [
    "print(100 ==98)"
   ]
  },
  {
   "cell_type": "markdown",
   "id": "a644098f-cc9f-49a1-a5d4-b09fb00df0f2",
   "metadata": {},
   "source": [
    "Variables"
   ]
  },
  {
   "cell_type": "code",
   "execution_count": 18,
   "id": "3ba7fc79-6e05-40ce-ba42-6ce3d75bd4d7",
   "metadata": {},
   "outputs": [
    {
     "name": "stdout",
     "output_type": "stream",
     "text": [
      "10\n"
     ]
    }
   ],
   "source": [
    "x = 10\n",
    "print (x)"
   ]
  },
  {
   "cell_type": "code",
   "execution_count": 19,
   "id": "540b0b0d-8a26-401e-9c57-a381e847a13c",
   "metadata": {},
   "outputs": [
    {
     "data": {
      "text/plain": [
       "10"
      ]
     },
     "execution_count": 19,
     "metadata": {},
     "output_type": "execute_result"
    }
   ],
   "source": [
    "x"
   ]
  },
  {
   "cell_type": "code",
   "execution_count": 23,
   "id": "6c5b2adf-4421-40ed-9eed-c7379fe7441e",
   "metadata": {},
   "outputs": [],
   "source": [
    "a, b, c, d, = 10, 20, 30, 40"
   ]
  },
  {
   "cell_type": "code",
   "execution_count": 25,
   "id": "411e8825-c62b-4e08-a9d5-4a5c4ba9daba",
   "metadata": {},
   "outputs": [
    {
     "name": "stdout",
     "output_type": "stream",
     "text": [
      "20\n"
     ]
    }
   ],
   "source": [
    "print (b)"
   ]
  },
  {
   "cell_type": "code",
   "execution_count": 26,
   "id": "b1479594-4cef-4c2d-b84f-5aa112016399",
   "metadata": {},
   "outputs": [
    {
     "data": {
      "text/plain": [
       "40"
      ]
     },
     "execution_count": 26,
     "metadata": {},
     "output_type": "execute_result"
    }
   ],
   "source": [
    "d"
   ]
  },
  {
   "cell_type": "code",
   "execution_count": null,
   "id": "3bf7ba25-9455-47fd-9437-27a881caac7a",
   "metadata": {},
   "outputs": [],
   "source": []
  }
 ],
 "metadata": {
  "kernelspec": {
   "display_name": "Python 3 (ipykernel)",
   "language": "python",
   "name": "python3"
  },
  "language_info": {
   "codemirror_mode": {
    "name": "ipython",
    "version": 3
   },
   "file_extension": ".py",
   "mimetype": "text/x-python",
   "name": "python",
   "nbconvert_exporter": "python",
   "pygments_lexer": "ipython3",
   "version": "3.9.13"
  }
 },
 "nbformat": 4,
 "nbformat_minor": 5
}
